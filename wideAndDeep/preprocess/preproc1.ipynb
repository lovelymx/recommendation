{
 "cells": [
  {
   "cell_type": "code",
   "execution_count": 1,
   "metadata": {},
   "outputs": [],
   "source": [
    "import os\n",
    "os.environ[\"PYSPARK_PYTHON\"] = \"/usr/local/anaconda/bin/python\""
   ]
  },
  {
   "cell_type": "code",
   "execution_count": 2,
   "metadata": {},
   "outputs": [],
   "source": [
    "from pyspark.sql.types import IntegerType, StringType, StructType, StructField \n",
    "import pyspark.sql.functions as F\n",
    "from pyspark.context import SparkContext, SparkConf\n",
    "from pyspark.sql.session import SparkSession\n",
    "from pyspark.sql.functions import col"
   ]
  },
  {
   "cell_type": "code",
   "execution_count": 3,
   "metadata": {},
   "outputs": [],
   "source": [
    "conf = SparkConf()\n",
    "conf = conf.setMaster(\"yarn\")\n",
    "conf = conf.set(\"spark.app.name\", \"recommend-ctr\")\n",
    "conf = conf.set(\"spark.executor.memory\", \"5g\")\n",
    "conf = conf.set(\"spark.driver.memory\", \"8g\")\n",
    "conf = conf.set(\"spark.driver.maxResultSize\", \"3g\")\n",
    "conf = conf.set(\"spark.executor.instances\", \"20\")\n",
    "conf = conf.set(\"spark.default.parallelism\", \"200\")"
   ]
  },
  {
   "cell_type": "code",
   "execution_count": 4,
   "metadata": {},
   "outputs": [],
   "source": [
    "sc = SparkContext(conf=conf)\n",
    "spark = SparkSession(sc)"
   ]
  },
  {
   "cell_type": "code",
   "execution_count": 5,
   "metadata": {},
   "outputs": [],
   "source": [
    "OUTPUT_BUCKET_FOLDER = \"hdfs:/user/lzhao/data/outbrain/preprocessed/\"\n",
    "DATA_BUCKET_FOLDER = \"hdfs:/user/lzhao/data/outbrain/\"\n",
    "SPARK_TEMP_FOLDER = \"hdfs:/user/lzhao/data/outbrain/spark-temp/\""
   ]
  },
  {
   "cell_type": "code",
   "execution_count": 6,
   "metadata": {},
   "outputs": [],
   "source": [
    "events_schema = StructType(\n",
    "                    [StructField(\"display_id\", IntegerType(), True),\n",
    "                    StructField(\"uuid_event\", StringType(), True),                    \n",
    "                    StructField(\"document_id_event\", IntegerType(), True),\n",
    "                    StructField(\"timestamp_event\", IntegerType(), True),\n",
    "                    StructField(\"platform_event\", IntegerType(), True),\n",
    "                    StructField(\"geo_location_event\", StringType(), True)]\n",
    "                    )"
   ]
  },
  {
   "cell_type": "code",
   "execution_count": 7,
   "metadata": {},
   "outputs": [],
   "source": [
    "events_df = spark.read.schema(events_schema) \\\n",
    "  .options(header='true', inferschema='false', nullValue='\\\\N') \\\n",
    "  .csv(DATA_BUCKET_FOLDER + \"events.csv\") \\\n",
    "  .withColumn('day_event', (col('timestamp_event') / 1000 / 60 / 60 / 24).cast(\"int\")) \\\n",
    "  .alias('events')  "
   ]
  },
  {
   "cell_type": "code",
   "execution_count": 8,
   "metadata": {},
   "outputs": [
    {
     "name": "stdout",
     "output_type": "stream",
     "text": [
      "+----------+--------------+-----------------+---------------+--------------+------------------+---------+\n",
      "|display_id|    uuid_event|document_id_event|timestamp_event|platform_event|geo_location_event|day_event|\n",
      "+----------+--------------+-----------------+---------------+--------------+------------------+---------+\n",
      "|         1|cb8c55702adb93|           379743|             61|             3|         US>SC>519|        0|\n",
      "|         2|79a85fa78311b9|          1794259|             81|             2|         US>CA>807|        0|\n",
      "|         3|822932ce3d8757|          1179111|            182|             2|         US>MI>505|        0|\n",
      "|         4|85281d0a49f7ac|          1777797|            234|             2|         US>WV>564|        0|\n",
      "|         5|8d0daef4bf5b56|           252458|            338|             2|             SG>00|        0|\n",
      "+----------+--------------+-----------------+---------------+--------------+------------------+---------+\n",
      "only showing top 5 rows\n",
      "\n"
     ]
    }
   ],
   "source": [
    "events_df.show(5)"
   ]
  },
  {
   "cell_type": "code",
   "execution_count": 9,
   "metadata": {},
   "outputs": [
    {
     "data": {
      "text/plain": [
       "23120126"
      ]
     },
     "execution_count": 9,
     "metadata": {},
     "output_type": "execute_result"
    }
   ],
   "source": [
    "events_df.count()"
   ]
  },
  {
   "cell_type": "code",
   "execution_count": 10,
   "metadata": {},
   "outputs": [
    {
     "name": "stdout",
     "output_type": "stream",
     "text": [
      "Drop rows with empty \"geo_location\"...\n"
     ]
    },
    {
     "data": {
      "text/plain": [
       "23119786"
      ]
     },
     "execution_count": 10,
     "metadata": {},
     "output_type": "execute_result"
    }
   ],
   "source": [
    "print('Drop rows with empty \"geo_location\"...')\n",
    "events_df = events_df.dropna(subset=\"geo_location_event\")\n",
    "events_df.count()"
   ]
  },
  {
   "cell_type": "code",
   "execution_count": 11,
   "metadata": {},
   "outputs": [
    {
     "name": "stdout",
     "output_type": "stream",
     "text": [
      "Drop rows with empty \"platform\"...\n"
     ]
    },
    {
     "data": {
      "text/plain": [
       "23119781"
      ]
     },
     "execution_count": 11,
     "metadata": {},
     "output_type": "execute_result"
    }
   ],
   "source": [
    "print('Drop rows with empty \"platform\"...')\n",
    "events_df = events_df.dropna(subset=\"platform_event\")\n",
    "events_df.count()"
   ]
  },
  {
   "cell_type": "code",
   "execution_count": 12,
   "metadata": {},
   "outputs": [],
   "source": [
    "promoted_content_schema = StructType(\n",
    "  [StructField(\"ad_id\", IntegerType(), True),\n",
    "  StructField(\"document_id_promo\", IntegerType(), True),                    \n",
    "  StructField(\"campaign_id\", IntegerType(), True),\n",
    "  StructField(\"advertiser_id\", IntegerType(), True)]\n",
    "  )"
   ]
  },
  {
   "cell_type": "code",
   "execution_count": 13,
   "metadata": {},
   "outputs": [],
   "source": [
    "promoted_content_df = spark.read.schema(promoted_content_schema) \\\n",
    "  .options(header='true', inferschema='false', nullValue='\\\\N') \\\n",
    "  .csv(DATA_BUCKET_FOLDER+\"promoted_content.csv\") \\\n",
    "  .alias('promoted_content')"
   ]
  },
  {
   "cell_type": "code",
   "execution_count": 14,
   "metadata": {},
   "outputs": [
    {
     "name": "stdout",
     "output_type": "stream",
     "text": [
      "+-----+-----------------+-----------+-------------+\n",
      "|ad_id|document_id_promo|campaign_id|advertiser_id|\n",
      "+-----+-----------------+-----------+-------------+\n",
      "|    1|             6614|          1|            7|\n",
      "|    2|           471467|          2|            7|\n",
      "|    3|             7692|          3|            7|\n",
      "|    4|           471471|          2|            7|\n",
      "|    5|           471472|          2|            7|\n",
      "+-----+-----------------+-----------+-------------+\n",
      "only showing top 5 rows\n",
      "\n"
     ]
    }
   ],
   "source": [
    "promoted_content_df.show(5)"
   ]
  },
  {
   "cell_type": "code",
   "execution_count": 15,
   "metadata": {},
   "outputs": [],
   "source": [
    "clicks_train_schema = StructType(\n",
    "  [StructField(\"display_id\", IntegerType(), True),\n",
    "  StructField(\"ad_id\", IntegerType(), True),                    \n",
    "  StructField(\"clicked\", IntegerType(), True)]\n",
    "  )"
   ]
  },
  {
   "cell_type": "code",
   "execution_count": 16,
   "metadata": {},
   "outputs": [],
   "source": [
    "clicks_train_df = spark.read.schema(clicks_train_schema) \\\n",
    "  .options(header='true', inferschema='false', nullValue='\\\\N') \\\n",
    "  .csv(DATA_BUCKET_FOLDER+\"clicks_train.csv\") \\\n",
    "  .alias('clicks_train')"
   ]
  },
  {
   "cell_type": "code",
   "execution_count": 22,
   "metadata": {},
   "outputs": [
    {
     "data": {
      "text/plain": [
       "87141731"
      ]
     },
     "execution_count": 22,
     "metadata": {},
     "output_type": "execute_result"
    }
   ],
   "source": [
    "clicks_train_df.count()"
   ]
  },
  {
   "cell_type": "code",
   "execution_count": 17,
   "metadata": {},
   "outputs": [
    {
     "name": "stdout",
     "output_type": "stream",
     "text": [
      "+----------+------+-------+\n",
      "|display_id| ad_id|clicked|\n",
      "+----------+------+-------+\n",
      "|         1| 42337|      0|\n",
      "|         1|139684|      0|\n",
      "|         1|144739|      1|\n",
      "|         1|156824|      0|\n",
      "|         1|279295|      0|\n",
      "+----------+------+-------+\n",
      "only showing top 5 rows\n",
      "\n"
     ]
    }
   ],
   "source": [
    "clicks_train_df.show(5)"
   ]
  },
  {
   "cell_type": "code",
   "execution_count": 18,
   "metadata": {},
   "outputs": [],
   "source": [
    "clicks_train_joined_df = clicks_train_df \\\n",
    "  .join(promoted_content_df, on='ad_id', how='left') \\\n",
    "  .join(events_df, on='display_id', how='left')\n",
    "clicks_train_joined_df.createOrReplaceTempView('clicks_train_joined')"
   ]
  },
  {
   "cell_type": "code",
   "execution_count": 19,
   "metadata": {},
   "outputs": [
    {
     "data": {
      "text/plain": [
       "[Row(display_id=148, ad_id=152140, clicked=0, document_id_promo=1060089, campaign_id=19032, advertiser_id=1593, uuid_event='9adce6a5363308', document_id_event=1205772, timestamp_event=11202, platform_event=2, geo_location_event='US>LA>612', day_event=0),\n",
       " Row(display_id=148, ad_id=152656, clicked=0, document_id_promo=1086755, campaign_id=10511, advertiser_id=2151, uuid_event='9adce6a5363308', document_id_event=1205772, timestamp_event=11202, platform_event=2, geo_location_event='US>LA>612', day_event=0)]"
      ]
     },
     "execution_count": 19,
     "metadata": {},
     "output_type": "execute_result"
    }
   ],
   "source": [
    "clicks_train_joined_df.take(2)"
   ]
  },
  {
   "cell_type": "code",
   "execution_count": 20,
   "metadata": {},
   "outputs": [],
   "source": [
    "validation_display_ids_df = clicks_train_joined_df.select('display_id','day_event') \\\n",
    "  .distinct() \\\n",
    "  .sampleBy(\"day_event\", fractions={0: 0.2, 1: 0.2, 2: 0.2, 3: 0.2, 4: 0.2, \\\n",
    "  5: 0.2, 6: 0.2, 7: 0.2, 8: 0.2, 9: 0.2, 10: 0.2, 11: 1.0, 12: 1.0}, seed=0)\n",
    "validation_display_ids_df.createOrReplaceTempView(\"validation_display_ids\")\n",
    "validation_set_df = spark.sql('''SELECT display_id, ad_id, uuid_event, day_event, \n",
    "  timestamp_event, document_id_promo, platform_event, geo_location_event \n",
    "  FROM clicks_train_joined t\n",
    "    WHERE EXISTS (SELECT display_id FROM validation_display_ids \n",
    "      WHERE display_id = t.display_id)''')"
   ]
  },
  {
   "cell_type": "code",
   "execution_count": 21,
   "metadata": {},
   "outputs": [
    {
     "data": {
      "text/plain": [
       "27379904"
      ]
     },
     "execution_count": 21,
     "metadata": {},
     "output_type": "execute_result"
    }
   ],
   "source": [
    "validation_set_df.count()"
   ]
  },
  {
   "cell_type": "code",
   "execution_count": 21,
   "metadata": {},
   "outputs": [
    {
     "name": "stdout",
     "output_type": "stream",
     "text": [
      "+----------+------+--------------+---------+---------------+-----------------+--------------+------------------+\n",
      "|display_id| ad_id|    uuid_event|day_event|timestamp_event|document_id_promo|platform_event|geo_location_event|\n",
      "+----------+------+--------------+---------+---------------+-----------------+--------------+------------------+\n",
      "|      2122| 36619|7ceed8e24a87d7|        0|         148795|           899906|             3|             SG>00|\n",
      "|      2122| 81643|7ceed8e24a87d7|        0|         148795|          1094108|             3|             SG>00|\n",
      "|      2122|216100|7ceed8e24a87d7|        0|         148795|          1548042|             3|             SG>00|\n",
      "|      2659| 55819|964e40766c3f39|        0|         185389|           986576|             3|             CA>BC|\n",
      "|      2659| 76816|964e40766c3f39|        0|         185389|           824972|             3|             CA>BC|\n",
      "+----------+------+--------------+---------+---------------+-----------------+--------------+------------------+\n",
      "only showing top 5 rows\n",
      "\n"
     ]
    }
   ],
   "source": [
    "validation_set_df.show(5)"
   ]
  },
  {
   "cell_type": "code",
   "execution_count": 23,
   "metadata": {},
   "outputs": [],
   "source": [
    "validation_set_gcs_output = \"validation_set.parquet\"\n",
    "validation_set_df.coalesce(2).write.parquet(OUTPUT_BUCKET_FOLDER+validation_set_gcs_output, mode='overwrite')"
   ]
  },
  {
   "cell_type": "code",
   "execution_count": 24,
   "metadata": {},
   "outputs": [],
   "source": [
    "spark.stop()"
   ]
  },
  {
   "cell_type": "code",
   "execution_count": null,
   "metadata": {},
   "outputs": [],
   "source": []
  }
 ],
 "metadata": {
  "kernelspec": {
   "display_name": "Python 3",
   "language": "python",
   "name": "python3"
  },
  "language_info": {
   "codemirror_mode": {
    "name": "ipython",
    "version": 3
   },
   "file_extension": ".py",
   "mimetype": "text/x-python",
   "name": "python",
   "nbconvert_exporter": "python",
   "pygments_lexer": "ipython3",
   "version": "3.6.9"
  }
 },
 "nbformat": 4,
 "nbformat_minor": 4
}
